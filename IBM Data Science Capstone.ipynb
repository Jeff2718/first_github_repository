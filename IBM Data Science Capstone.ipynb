{
 "cells": [
  {
   "cell_type": "markdown",
   "metadata": {},
   "source": [
    "# IBM Data Science Capstone: Finding the Most Compatible Neighborhood"
   ]
  },
  {
   "cell_type": "markdown",
   "metadata": {},
   "source": [
    "## Part 1: Introduction/Business Problem"
   ]
  },
  {
   "cell_type": "markdown",
   "metadata": {},
   "source": [
    "The target audience for this project is newcomers to a city or those thinking of moving to a city.\n",
    "\n",
    "The purpose of the project is to help the target audience identify promising neighborhoods where they should focus their housing search.\n",
    "\n",
    "The user will provide their preferred neighborhood attributes as input, and the model will output a list of neighborhoods most compatible with those preferences.\n",
    "\n",
    "As a first iteration we limit the city to Portland, Oregon, but ideally we'll expand the model to include any U.S. city or zip code of the user's choosing."
   ]
  },
  {
   "cell_type": "markdown",
   "metadata": {},
   "source": [
    "## Part 2: Data Required"
   ]
  },
  {
   "cell_type": "markdown",
   "metadata": {},
   "source": [
    "The data required will be a list of Portland neighborhoods and zip codes and their corresponding latitudes and longitudes. The list below is scraped from the website: www.portlandneighborhood.com."
   ]
  },
  {
   "cell_type": "code",
   "execution_count": 1,
   "metadata": {},
   "outputs": [],
   "source": [
    "import pandas as pd\n",
    "import numpy as np\n",
    "import matplotlib.pyplot as plt"
   ]
  },
  {
   "cell_type": "code",
   "execution_count": 6,
   "metadata": {},
   "outputs": [
    {
     "data": {
      "text/html": [
       "<div>\n",
       "<style scoped>\n",
       "    .dataframe tbody tr th:only-of-type {\n",
       "        vertical-align: middle;\n",
       "    }\n",
       "\n",
       "    .dataframe tbody tr th {\n",
       "        vertical-align: top;\n",
       "    }\n",
       "\n",
       "    .dataframe thead th {\n",
       "        text-align: right;\n",
       "    }\n",
       "</style>\n",
       "<table border=\"1\" class=\"dataframe\">\n",
       "  <thead>\n",
       "    <tr style=\"text-align: right;\">\n",
       "      <th></th>\n",
       "      <th>0</th>\n",
       "      <th>1</th>\n",
       "      <th>2</th>\n",
       "    </tr>\n",
       "  </thead>\n",
       "  <tbody>\n",
       "    <tr>\n",
       "      <th>0</th>\n",
       "      <td>View the Alameda Neighborhood profile</td>\n",
       "      <td>97212</td>\n",
       "      <td>NaN</td>\n",
       "    </tr>\n",
       "    <tr>\n",
       "      <th>1</th>\n",
       "      <td>View the Arbor Lodge Neighborhood profile</td>\n",
       "      <td>97217</td>\n",
       "      <td>NaN</td>\n",
       "    </tr>\n",
       "    <tr>\n",
       "      <th>2</th>\n",
       "      <td>Ardenwald</td>\n",
       "      <td>97222</td>\n",
       "      <td>NaN</td>\n",
       "    </tr>\n",
       "    <tr>\n",
       "      <th>3</th>\n",
       "      <td>View the Argay Neighborhood profile</td>\n",
       "      <td>97230</td>\n",
       "      <td>NaN</td>\n",
       "    </tr>\n",
       "    <tr>\n",
       "      <th>4</th>\n",
       "      <td>View the Arlington Heights Neighborhood profile</td>\n",
       "      <td>97201</td>\n",
       "      <td>NaN</td>\n",
       "    </tr>\n",
       "  </tbody>\n",
       "</table>\n",
       "</div>"
      ],
      "text/plain": [
       "                                                 0      1   2\n",
       "0            View the Alameda Neighborhood profile  97212 NaN\n",
       "1        View the Arbor Lodge Neighborhood profile  97217 NaN\n",
       "2                                        Ardenwald  97222 NaN\n",
       "3              View the Argay Neighborhood profile  97230 NaN\n",
       "4  View the Arlington Heights Neighborhood profile  97201 NaN"
      ]
     },
     "execution_count": 6,
     "metadata": {},
     "output_type": "execute_result"
    }
   ],
   "source": [
    "df=pd.read_html('https://portlandneighborhood.com/portlandzipcodes')\n",
    "dfn=df[0]\n",
    "dfn.head()"
   ]
  },
  {
   "cell_type": "markdown",
   "metadata": {},
   "source": [
    "Once the list of neighborhoods is cleaned up, a geocoder will be used to record the corresponding lattitudes and longitudes for each neighborhood, and those will be appended to the cleaned dataframe. An example of retrieving the location data is shown below."
   ]
  },
  {
   "cell_type": "code",
   "execution_count": 10,
   "metadata": {},
   "outputs": [
    {
     "name": "stdout",
     "output_type": "stream",
     "text": [
      "Requirement already satisfied: geopy in c:\\users\\jeff\\anaconda3\\lib\\site-packages (1.21.0)\n",
      "Requirement already satisfied: geographiclib<2,>=1.49 in c:\\users\\jeff\\anaconda3\\lib\\site-packages (from geopy) (1.50)\n"
     ]
    }
   ],
   "source": [
    "!pip install geopy\n",
    "from geopy.geocoders import Nominatim"
   ]
  },
  {
   "cell_type": "code",
   "execution_count": 11,
   "metadata": {},
   "outputs": [
    {
     "name": "stdout",
     "output_type": "stream",
     "text": [
      "The geograpical coordinate of this Portland neighborhood are 45.544455550640166, -122.64324085432656.\n"
     ]
    }
   ],
   "source": [
    "address_example=97212\n",
    "geolocator = Nominatim(user_agent=\"portland_explorer\")\n",
    "location = geolocator.geocode(address_example)\n",
    "latitude = location.latitude\n",
    "longitude = location.longitude\n",
    "print('The geograpical coordinate of this Portland neighborhood are {}, {}.'.format(latitude, longitude))"
   ]
  },
  {
   "cell_type": "markdown",
   "metadata": {},
   "source": [
    "The location data will then be used to query Foursquare in order to collect data on the types of venues available in each neighborhood, using a user-defined radius for the queries.\n",
    "\n",
    "The venue information for each neighborhood will be organized so that the most common types of venues are reported in order. Once this step has been accomplished, the neighborhoods will be sent to a clustering algorithm along with a \"user-defined neighborhood\" that consists of a fictitious neighborhood constructed based on the users preferences.\n",
    "\n",
    "The cluster that includes the user-defined neighborhood will be presented, along with a map of the neighborhoods that are in the cluster."
   ]
  },
  {
   "cell_type": "code",
   "execution_count": null,
   "metadata": {},
   "outputs": [],
   "source": []
  }
 ],
 "metadata": {
  "kernelspec": {
   "display_name": "Python 3",
   "language": "python",
   "name": "python3"
  },
  "language_info": {
   "codemirror_mode": {
    "name": "ipython",
    "version": 3
   },
   "file_extension": ".py",
   "mimetype": "text/x-python",
   "name": "python",
   "nbconvert_exporter": "python",
   "pygments_lexer": "ipython3",
   "version": "3.7.6"
  }
 },
 "nbformat": 4,
 "nbformat_minor": 4
}
