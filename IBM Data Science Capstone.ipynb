{
 "cells": [
  {
   "cell_type": "markdown",
   "metadata": {},
   "source": [
    "# IBM Data Science Capstone: Finding the Most Compatible Neighborhood"
   ]
  },
  {
   "cell_type": "markdown",
   "metadata": {},
   "source": [
    "## Part 1: Introduction/Business Problem"
   ]
  },
  {
   "cell_type": "markdown",
   "metadata": {},
   "source": [
    "The purpose of this project is to help newcomers to a city or those thinking of moving to a city focus their housing search on neighborhoods they are most likely to enjoy. The user will provide their preferred neighborhood attributes as input, and the model will output a list of neighborhoods most compatible with those preferences.\n",
    "\n",
    "As a first attempt we limit the city to Portland, Oregon, but if possible we'll expand the model to include any U.S. city or zip code of the user's choosing."
   ]
  },
  {
   "cell_type": "markdown",
   "metadata": {},
   "source": [
    "## Part 2: Data Required"
   ]
  },
  {
   "cell_type": "markdown",
   "metadata": {},
   "source": [
    "The data required will be a list of Portland neighborhoods and zip codes and their corresponding latitudes and longitudes. For this step a geocoder will be used once a suitable list of neighborhoods is found. Once the location data is collected, we will use Foursquare to collect data on the most common types of venues for each neighborhood. From this step it's not clear yet the best way to proceed. One way to approach the problem is to collect the top venue categories for each neighborhood and then compare those to find the best matches to the user's preference list. Another option would be to only collect information on the kinds of venues that are in the user's preference list and then make comparisons. \n",
    "\n",
    "For the comparison stage, we may try to produce a ranked list of \"most similar\" neighborhoods to the user's preferences, or we may submit all neighborhoods along with a fictitous \"neighborhood\" built from the user's preferences to a clustering algorithm that will output the cluster to which the \"user neighborhood\" belongs."
   ]
  }
 ],
 "metadata": {
  "kernelspec": {
   "display_name": "Python 3",
   "language": "python",
   "name": "python3"
  },
  "language_info": {
   "codemirror_mode": {
    "name": "ipython",
    "version": 3
   },
   "file_extension": ".py",
   "mimetype": "text/x-python",
   "name": "python",
   "nbconvert_exporter": "python",
   "pygments_lexer": "ipython3",
   "version": "3.7.6"
  }
 },
 "nbformat": 4,
 "nbformat_minor": 4
}
