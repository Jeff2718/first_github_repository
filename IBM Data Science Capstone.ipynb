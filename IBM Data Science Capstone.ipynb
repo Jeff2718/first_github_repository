{
 "cells": [
  {
   "cell_type": "markdown",
   "metadata": {},
   "source": [
    "# IBM Data Science Capstone: Finding the Most Compatible Neighborhood"
   ]
  },
  {
   "cell_type": "markdown",
   "metadata": {},
   "source": [
    "## Part 1: Introduction/Business Problem"
   ]
  },
  {
   "cell_type": "markdown",
   "metadata": {},
   "source": [
    "The target audience for this project is newcomers to a city or those thinking of moving to a city.\n",
    "\n",
    "The purpose of the project is to help the target audience identify promising neighborhoods where they should focus their housing search.\n",
    "\n",
    "The user will provide their preferred neighborhood attributes as input, and the model will output a list of neighborhoods most compatible with those preferences.\n",
    "\n",
    "As a first iteration we limit the city to Portland, Oregon, but ideally we'll expand the model to include any U.S. city or zip code of the user's choosing."
   ]
  },
  {
   "cell_type": "markdown",
   "metadata": {},
   "source": [
    "## Part 2: Data Required"
   ]
  },
  {
   "cell_type": "markdown",
   "metadata": {},
   "source": [
    "The data required will be a list of Portland neighborhoods and zip codes and their corresponding latitudes and longitudes. Ideally, this list will be in the form of a table on a freely available site such as Wikipedia where it can be scraped. \n",
    "\n",
    "Once a suitable list of neighborhoods is found, a geocoder will be used to record their corresponding lattitudes and longitudes. The location data will then be used to query Foursquare in order to collect data on the types of venues available in each neighborhood, using a user-defined radius for the queries.\n",
    "\n",
    "The venue information for each neighborhood will be organized so that the most common types of venues are reported in order. Once this step has been accomplished, the neighborhoods will be sent to a clustering algorithm along with a \"user-defined neighborhood\" that consists of a fictitious neighborhood constructed based on the users preferences.\n",
    "\n",
    "The cluster that includes the unser-defined neighborhood will be presented, along with a map of the neighborhoods that are in the cluster."
   ]
  }
 ],
 "metadata": {
  "kernelspec": {
   "display_name": "Python 3",
   "language": "python",
   "name": "python3"
  },
  "language_info": {
   "codemirror_mode": {
    "name": "ipython",
    "version": 3
   },
   "file_extension": ".py",
   "mimetype": "text/x-python",
   "name": "python",
   "nbconvert_exporter": "python",
   "pygments_lexer": "ipython3",
   "version": "3.7.6"
  }
 },
 "nbformat": 4,
 "nbformat_minor": 4
}
